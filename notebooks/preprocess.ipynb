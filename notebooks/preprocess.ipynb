{
 "cells": [
  {
   "metadata": {},
   "cell_type": "code",
   "source": [
    "import pandas as pd\n",
    "\n",
    "pd.set_option('display.max_columns', None)\n",
    "pd.set_option('display.max_rows', 60)\n",
    "pd.set_option('display.width', 1000)\n",
    "pd.set_option('display.max_colwidth', 100)"
   ],
   "id": "8748e73787913fe0",
   "outputs": [],
   "execution_count": null
  },
  {
   "metadata": {},
   "cell_type": "code",
   "source": [
    "import pandas as pd\n",
    "\n",
    "wildfire_df = pd.read_csv(\"data/raw/california-wildfires/b8aeb030-140d-43d2-aa29-1a80862e3d62.csv\", low_memory=False)\n",
    "\n",
    "wildfire_df"
   ],
   "id": "90de9a9f4878832e",
   "outputs": [],
   "execution_count": null
  },
  {
   "metadata": {},
   "cell_type": "code",
   "source": [
    "aqi_df = pd.read_csv(\"data/raw/us-air-quality/US_AQI.csv\", low_memory=False)\n",
    "\n",
    "neighboring_states = [\"CA\", \"OR\", \"NV\", \"AZ\"]  # State codes\n",
    "aqi_neighbors_df = aqi_df[aqi_df[\"state_id\"].isin(neighboring_states)]\n",
    "\n",
    "aqi_neighbors_df"
   ],
   "id": "79305dd5652619be",
   "outputs": [],
   "execution_count": null
  },
  {
   "metadata": {},
   "cell_type": "code",
   "source": [
    "import seaborn as sns\n",
    "import matplotlib.pyplot as plt\n",
    "\n",
    "def plot_missing_data_heatmap(df):\n",
    "\n",
    "    # Create a more informative heatmap\n",
    "    plt.figure(figsize=(14, 8))\n",
    "\n",
    "    # Calculate missing data percentage\n",
    "    missing_percentage = (df.isnull().mean() * 100).sort_values(ascending=False)\n",
    "\n",
    "    # Create a dataframe for missing data\n",
    "    missing_df = pd.DataFrame({'Column': missing_percentage.index,\n",
    "                              'Missing %': missing_percentage.values})\n",
    "\n",
    "    # Plot\n",
    "    sns.heatmap(df[missing_df['Column']].isnull(),\n",
    "                cbar=False,\n",
    "                cmap='coolwarm',\n",
    "                yticklabels=False)\n",
    "    plt.title('Missing Data Heatmap', fontsize=14)\n",
    "    plt.xticks(rotation=45, ha='right')\n",
    "    plt.tight_layout()\n",
    "    plt.show()\n",
    "\n",
    "    # Print missing percentage for reference\n",
    "    print(\"\\nMissing Data Percentage by Column:\")\n",
    "    display(missing_df)"
   ],
   "id": "f85debae22bed997",
   "outputs": [],
   "execution_count": null
  },
  {
   "metadata": {},
   "cell_type": "code",
   "source": "plot_missing_data_heatmap(wildfire_df)",
   "id": "2502991ae3a80770",
   "outputs": [],
   "execution_count": null
  },
  {
   "metadata": {},
   "cell_type": "code",
   "source": "plot_missing_data_heatmap(aqi_df)",
   "id": "941341489c7a415f",
   "outputs": [],
   "execution_count": null
  }
 ],
 "metadata": {
  "kernelspec": {
   "display_name": "Python 3",
   "language": "python",
   "name": "python3"
  },
  "language_info": {
   "codemirror_mode": {
    "name": "ipython",
    "version": 2
   },
   "file_extension": ".py",
   "mimetype": "text/x-python",
   "name": "python",
   "nbconvert_exporter": "python",
   "pygments_lexer": "ipython2",
   "version": "2.7.6"
  }
 },
 "nbformat": 4,
 "nbformat_minor": 5
}
